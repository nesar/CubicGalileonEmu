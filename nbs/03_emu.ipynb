{
 "cells": [
  {
   "cell_type": "markdown",
   "metadata": {},
   "source": [
    "# emu\n",
    "\n",
    "> Fill in a module description here"
   ]
  },
  {
   "cell_type": "code",
   "execution_count": null,
   "metadata": {},
   "outputs": [],
   "source": [
    "#| default_exp emu"
   ]
  },
  {
   "cell_type": "code",
   "execution_count": null,
   "metadata": {},
   "outputs": [],
   "source": [
    "#| hide\n",
    "from nbdev.showdoc import *"
   ]
  },
  {
   "cell_type": "code",
   "execution_count": null,
   "metadata": {},
   "outputs": [],
   "source": [
    "#| export\n",
    "\n",
    "from sepia.SepiaModel import SepiaModel\n",
    "from sepia.SepiaData import SepiaData\n",
    "from sepia.SepiaPredict import SepiaEmulatorPrediction\n",
    "# from sepia.SepiaPredict import SepiaFullPrediction\n",
    "# from sepia.SepiaPredict import SepiaXvalEmulatorPrediction\n",
    "# from sepia.SepiaSharedThetaModels import SepiaSharedThetaModels\n",
    "import numpy as np"
   ]
  },
  {
   "cell_type": "code",
   "execution_count": null,
   "metadata": {},
   "outputs": [],
   "source": [
    "#| export\n",
    "\n",
    "def emulate(sepia_model:SepiaModel=None, # Input data in SEPIA format\n",
    "        input_params:np.array=None, #Input parameter array \n",
    "       ) -> tuple: # 2 np.array of mean and (0.05,0.95) quantile in prediction\n",
    "    \n",
    "    if len(input_params.shape) == 1:\n",
    "        ip = np.expand_dims(input_params, axis=0)\n",
    "        \n",
    "    else:\n",
    "        ip = input_params\n",
    "        \n",
    "    pred_samples= sepia_model.get_samples(numsamples=10)\n",
    "        \n",
    "    pred = SepiaEmulatorPrediction(t_pred=ip, samples=pred_samples, model=sepia_model)\n",
    "    \n",
    "    pred_samps = pred.get_y()\n",
    "    \n",
    "    pred_mean = np.mean(pred_samps, axis=0).T\n",
    "    pred_err = np.quantile(pred_samps, [0.05, 0.95], axis=0).T\n",
    "    \n",
    "    return pred_mean, pred_err"
   ]
  },
  {
   "cell_type": "code",
   "execution_count": null,
   "metadata": {},
   "outputs": [],
   "source": [
    "#| export\n",
    "\n",
    "def model_load_all(): \n",
    "    '''\n",
    "    model_list = []\n",
    "    \n",
    "    for z_index in range(51):\n",
    "        sepia_model = gp_load(sepia_model, model_filename)\n",
    "        model_list.append(sepia_model)\n",
    "    return model_list\n",
    "    '''\n",
    "    pass\n",
    " "
   ]
  },
  {
   "cell_type": "code",
   "execution_count": null,
   "metadata": {},
   "outputs": [],
   "source": [
    "#| export\n",
    "\n",
    "def emu_redshift(input_params_and_redshift):\n",
    "    \n",
    "    '''\n",
    "        if (z == 0):\n",
    "            # No redshift interpolation for z=0\n",
    "            GPm, PCAm = model_load(snap_ID=LAST_SNAP, nRankMax=DEFAULT_PCA_RANK)\n",
    "            Pk_interp = gp_emu(GPm, PCAm, [Omh2, ns, s8, fR0, n])\n",
    "        \n",
    "        \n",
    "        else:\n",
    "            # Linear interpolation between z1 < z < z2\n",
    "            snap_idx_nearest = (np.abs(z_all - z)).argmin()\n",
    "            if (z > z_all[snap_idx_nearest]):\n",
    "                snap_ID_z1 = snap_idx_nearest - 1\n",
    "            else:\n",
    "                snap_ID_z1 = snap_idx_nearest\n",
    "            snap_ID_z2 = snap_ID_z1 + 1\n",
    "\n",
    "            GPm1, PCAm1 = model_load(snap_ID=snap_ID_z1, nRankMax=DEFAULT_PCA_RANK)\n",
    "            Pk_z1 = gp_emu(GPm1, PCAm1, [Omh2, ns, s8, fR0, n])\n",
    "            z1 = z_all[snap_ID_z1]\n",
    "\n",
    "            GPm2, PCAm2 = model_load(snap_ID=snap_ID_z2, nRankMax=DEFAULT_PCA_RANK)\n",
    "            Pk_z2 = gp_emu(GPm2, PCAm2, [Omh2, ns, s8, fR0, n])\n",
    "            z2 = z_all[snap_ID_z2]\n",
    "\n",
    "            Pk_interp = np.zeros_like(Pk_z1)\n",
    "            Pk_interp = Pk_z2 + (Pk_z1 - Pk_z2)*(z - z2)/(z1 - z2)\n",
    "    return Pk_interp, kvals\n",
    "    \n",
    "    '''\n",
    "    pass"
   ]
  },
  {
   "cell_type": "code",
   "execution_count": null,
   "metadata": {},
   "outputs": [],
   "source": []
  },
  {
   "cell_type": "code",
   "execution_count": null,
   "metadata": {},
   "outputs": [],
   "source": [
    "#| hide\n",
    "import nbdev; nbdev.nbdev_export()"
   ]
  }
 ],
 "metadata": {
  "kernelspec": {
   "display_name": "python3",
   "language": "python",
   "name": "python3"
  }
 },
 "nbformat": 4,
 "nbformat_minor": 4
}
