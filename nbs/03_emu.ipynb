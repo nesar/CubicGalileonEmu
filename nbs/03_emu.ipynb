{
 "cells": [
  {
   "cell_type": "markdown",
   "metadata": {},
   "source": [
    "# emu\n",
    "\n",
    "> Fill in a module description here"
   ]
  },
  {
   "cell_type": "code",
   "execution_count": null,
   "metadata": {},
   "outputs": [],
   "source": [
    "#| default_exp emu"
   ]
  },
  {
   "cell_type": "code",
   "execution_count": null,
   "metadata": {},
   "outputs": [],
   "source": [
    "#| hide\n",
    "from nbdev.showdoc import *"
   ]
  },
  {
   "cell_type": "code",
   "execution_count": null,
   "metadata": {},
   "outputs": [],
   "source": [
    "#| export\n",
    "\n",
    "from sepia.SepiaModel import SepiaModel\n",
    "from sepia.SepiaData import SepiaData\n",
    "from sepia.SepiaPredict import SepiaEmulatorPrediction\n",
    "from sepia.SepiaPredict import SepiaFullPrediction\n",
    "from sepia.SepiaPredict import SepiaXvalEmulatorPrediction\n",
    "from sepia.SepiaSharedThetaModels import SepiaSharedThetaModels\n",
    "from PIL import Image\n",
    "import sepia.SepiaPlot as SepiaPlot"
   ]
  },
  {
   "cell_type": "code",
   "execution_count": null,
   "metadata": {},
   "outputs": [],
   "source": [
    "#| export\n",
    "\n",
    "def Emu(model, \n",
    "        model_params, \n",
    "        ip):\n",
    "    \n",
    "    if len(ip.shape) == 1:\n",
    "        sensDes = np.expand_dims(ip, axis=0)\n",
    "        \n",
    "    else:\n",
    "        sensDes = ip\n",
    "        \n",
    "    pred = SepiaEmulatorPrediction(t_pred=sensDes, samples=model_params, model=model)\n",
    "    sens_pred_samps = pred.get_y()\n",
    "    sens_pred = np.mean(sens_pred_samps, axis=0).transpose()\n",
    "    return sens_pred"
   ]
  },
  {
   "cell_type": "code",
   "execution_count": null,
   "metadata": {},
   "outputs": [],
   "source": [
    "#| hide\n",
    "import nbdev; nbdev.nbdev_export()"
   ]
  }
 ],
 "metadata": {
  "kernelspec": {
   "display_name": "python3",
   "language": "python",
   "name": "python3"
  }
 },
 "nbformat": 4,
 "nbformat_minor": 4
}
