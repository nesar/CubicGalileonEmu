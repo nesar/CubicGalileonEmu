{
 "cells": [
  {
   "cell_type": "markdown",
   "metadata": {},
   "source": [
    "# emu\n",
    "\n",
    "> Fill in a module description here"
   ]
  },
  {
   "cell_type": "code",
   "execution_count": null,
   "metadata": {},
   "outputs": [],
   "source": [
    "#| default_exp emu"
   ]
  },
  {
   "cell_type": "code",
   "execution_count": null,
   "metadata": {},
   "outputs": [],
   "source": [
    "#| hide\n",
    "from nbdev.showdoc import *"
   ]
  },
  {
   "cell_type": "code",
   "execution_count": null,
   "metadata": {},
   "outputs": [],
   "source": [
    "#| export\n",
    "\n",
    "from sepia.SepiaModel import SepiaModel\n",
    "from sepia.SepiaData import SepiaData\n",
    "from sepia.SepiaPredict import SepiaEmulatorPrediction\n",
    "# from sepia.SepiaPredict import SepiaFullPrediction\n",
    "# from sepia.SepiaPredict import SepiaXvalEmulatorPrediction\n",
    "# from sepia.SepiaSharedThetaModels import SepiaSharedThetaModels\n",
    "import numpy as np"
   ]
  },
  {
   "cell_type": "code",
   "execution_count": null,
   "metadata": {},
   "outputs": [],
   "source": [
    "#| export\n",
    "\n",
    "def emulate(sepia_model:SepiaModel=None, # Input data in SEPIA format\n",
    "        input_params:np.array=None, #Input parameter array \n",
    "       ) -> tuple: # 2 np.array of mean and (0.05,0.95) quantile in prediction\n",
    "    \n",
    "    if len(input_params.shape) == 1:\n",
    "        ip = np.expand_dims(input_params, axis=0)\n",
    "        \n",
    "    else:\n",
    "        ip = input_params\n",
    "        \n",
    "    pred_samples= sepia_model.get_samples(numsamples=10)\n",
    "        \n",
    "    pred = SepiaEmulatorPrediction(t_pred=ip, samples=pred_samples, model=sepia_model)\n",
    "    \n",
    "    pred_samps = pred.get_y()\n",
    "    \n",
    "    pred_mean = np.mean(pred_samps, axis=0).T\n",
    "    pred_err = np.quantile(pred_samps, [0.05, 0.95], axis=0).T\n",
    "    \n",
    "    return pred_mean, pred_err"
   ]
  },
  {
   "cell_type": "code",
   "execution_count": null,
   "metadata": {},
   "outputs": [],
   "source": [
    "#| hide\n",
    "import nbdev; nbdev.nbdev_export()"
   ]
  }
 ],
 "metadata": {
  "kernelspec": {
   "display_name": "python3",
   "language": "python",
   "name": "python3"
  }
 },
 "nbformat": 4,
 "nbformat_minor": 4
}
