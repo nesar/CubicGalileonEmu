{
 "cells": [
  {
   "cell_type": "markdown",
   "metadata": {},
   "source": [
    "# mcmc\n",
    "\n",
    "> Fill in a module description here"
   ]
  },
  {
   "cell_type": "code",
   "execution_count": null,
   "metadata": {},
   "outputs": [],
   "source": [
    "#| default_exp mcmc"
   ]
  },
  {
   "cell_type": "code",
   "execution_count": null,
   "metadata": {},
   "outputs": [],
   "source": [
    "#| hide\n",
    "from nbdev.showdoc import *"
   ]
  },
  {
   "cell_type": "code",
   "execution_count": null,
   "metadata": {},
   "outputs": [],
   "source": [
    "#| export\n",
    "\n",
    "import numpy as np\n",
    "import emcee \n",
    "import time\n",
    "from CubicGalileonEmu.emu import emu_redshift"
   ]
  },
  {
   "cell_type": "code",
   "execution_count": null,
   "metadata": {},
   "outputs": [],
   "source": [
    "# #| export\n",
    "\n",
    "# def ln_prior(theta, \n",
    "#              params_list\n",
    "#              ):\n",
    "    \n",
    "#     p1, p2, p3, p4, p5 = theta\n",
    "#     param1, param2, param3, param4, param5 = params_list\n",
    "    \n",
    "#     if param1[2] < p1 < param1[3]  \\\n",
    "#     and param2[2] < p2 < param2[3] \\\n",
    "#     and param3[2] < p3 < param3[3] \\\n",
    "#     and param4[2] < p4 < param4[3] \\\n",
    "#     and param5[2] < p5 < param5[3]:\n",
    "    \n",
    "#         ### gaussian prior on a\n",
    "#         p1_mu = 0.5*(param1[3] - param1[2]) + param1[2]\n",
    "#         p2_mu = 0.5*(param2[3] - param2[2]) + param2[2]\n",
    "#         p3_mu = 0.5*(param3[3] - param3[2]) + param3[2]\n",
    "#         p4_mu = 0.5*(param4[3] - param4[2]) + param4[2]\n",
    "#         p5_mu = 0.5*(param5[3] - param5[2]) + param5[2]\n",
    "\n",
    "#         p1_sigma = 1*(param1[3] - p1_mu)\n",
    "#         p2_sigma = 1*(param2[3] - p2_mu)\n",
    "#         p3_sigma = 1*(param3[3] - p3_mu)\n",
    "#         p4_sigma = 1*(param4[3] - p4_mu)\n",
    "#         p5_sigma = 1*(param5[3] - p5_mu)\n",
    "        \n",
    "\n",
    "#         pdf1 = np.log(1.0/(np.sqrt(2*np.pi)*p1_sigma))-0.5*(p1-p1_mu)**2/p1_sigma**2\n",
    "#         pdf2 = np.log(1.0/(np.sqrt(2*np.pi)*p2_sigma))-0.5*(p2-p2_mu)**2/p2_sigma**2\n",
    "#         pdf3 = np.log(1.0/(np.sqrt(2*np.pi)*p3_sigma))-0.5*(p3-p3_mu)**2/p3_sigma**2\n",
    "#         pdf4 = np.log(1.0/(np.sqrt(2*np.pi)*p4_sigma))-0.5*(p4-p4_mu)**2/p4_sigma**2\n",
    "#         pdf5 = np.log(1.0/(np.sqrt(2*np.pi)*p5_sigma))-0.5*(p5-p5_mu)**2/p5_sigma**2\n",
    "    \n",
    "#         return pdf1 + pdf2 + pdf3 + pdf4 + pdf5\n",
    "\n",
    "#     return -np.inf"
   ]
  },
  {
   "cell_type": "code",
   "execution_count": null,
   "metadata": {},
   "outputs": [],
   "source": [
    "#| export\n",
    "\n",
    "def ln_prior(theta, params_list):\n",
    "    pdf_sum = 0\n",
    "    for p, param in zip(theta, params_list):\n",
    "        if not (param[2] < p < param[3]):\n",
    "            return -np.inf\n",
    "        p_mu = 0.5 * (param[3] - param[2]) + param[2]\n",
    "        p_sigma = 1 * (param[3] - p_mu)\n",
    "        pdf_sum += np.log(1.0 / (np.sqrt(2 * np.pi) * p_sigma)) - 0.5 * (p - p_mu) ** 2 / p_sigma ** 2\n",
    "    return pdf_sum"
   ]
  },
  {
   "cell_type": "code",
   "execution_count": null,
   "metadata": {},
   "outputs": [],
   "source": [
    "#| export\n",
    "\n",
    "def ln_like(theta, \n",
    "            redshift,\n",
    "            x_grid, \n",
    "            sepia_model_list, \n",
    "            z_all, \n",
    "            x, \n",
    "            y, \n",
    "            yerr\n",
    "            ):\n",
    "      \n",
    "#     p1, p2, p3, p4, p5 = theta\n",
    "#     new_params = np.array([p1, p2, p3, p4, p5, redshift])[np.newaxis, :]\n",
    "\n",
    "#     new_params = np.array(theta + [redshift])[np.newaxis, :]\n",
    "    new_params = np.append( np.array(theta), [redshift] )[np.newaxis, :]\n",
    "\n",
    "#     print('Theta', len(theta))\n",
    "#     print('New params', new_params.shape)\n",
    "        \n",
    "    model_grid, model_var_grid = emu_redshift(new_params, sepia_model_list, z_all)\n",
    "        \n",
    "    model = np.interp(x, x_grid, model_grid[:, 0])\n",
    "    model_var = np.interp(x, x_grid, model_var_grid[:, 0, 0])\n",
    "  \n",
    "    sigma2 = yerr**2  + model_var\n",
    "    sigma2 = yerr**2 # + model_var\n",
    "\n",
    "    ll = -0.5 * np.sum((y - model)** 2 / sigma2 )\n",
    "    \n",
    "    return ll\n"
   ]
  },
  {
   "cell_type": "code",
   "execution_count": null,
   "metadata": {},
   "outputs": [],
   "source": [
    "#| export\n",
    "\n",
    "def ln_prob(theta, \n",
    "            redshift,\n",
    "            params_list, \n",
    "            x_grid, \n",
    "            sepia_model_list, \n",
    "            z_all, \n",
    "            x, \n",
    "            y, \n",
    "            yerr\n",
    "            ):\n",
    "    \n",
    "    lp = ln_prior(theta, params_list)\n",
    "    if not np.isfinite(lp):\n",
    "        return -np.inf\n",
    "    return lp + ln_like(theta, redshift, x_grid, sepia_model_list, z_all, x, y, yerr)"
   ]
  },
  {
   "cell_type": "code",
   "execution_count": null,
   "metadata": {},
   "outputs": [],
   "source": [
    "# #| export\n",
    "\n",
    "# def chain_init(params_list, \n",
    "#                ndim, \n",
    "#                nwalkers\n",
    "#                ):\n",
    "\n",
    "#     param1, param2, param3, param4, param5 = params_list\n",
    "\n",
    "#     pos0 = [[param1[1]*1.0, \n",
    "#              param2[1]*1.0, \n",
    "#              param3[1]*1.0, \n",
    "#              param4[1]*1.0,\n",
    "#              param5[1]*1.0] \n",
    "#             + 1e-3*np.random.randn(ndim) for i in range(nwalkers)]\n",
    "    \n",
    "#     return pos0\n"
   ]
  },
  {
   "cell_type": "code",
   "execution_count": null,
   "metadata": {},
   "outputs": [],
   "source": [
    "#| export \n",
    "\n",
    "def chain_init(params_list, ndim, nwalkers):\n",
    "    pos0 = [[param[1] * 1.0 for param in params_list] + 1e-3 * np.random.randn(ndim) for _ in range(nwalkers)]\n",
    "    return pos0"
   ]
  },
  {
   "cell_type": "code",
   "execution_count": null,
   "metadata": {},
   "outputs": [],
   "source": [
    "#| export \n",
    "\n",
    "def define_sampler(redshift, \n",
    "                   ndim, \n",
    "                   nwalkers, \n",
    "                   params_list, \n",
    "                   x_grid, \n",
    "                   sepia_model_list, \n",
    "                   z_all, \n",
    "                   x, \n",
    "                   y, \n",
    "                   yerr\n",
    "                   ):\n",
    "    \n",
    "    sampler = emcee.EnsembleSampler(nwalkers, ndim, ln_prob, args=(redshift, params_list, x_grid, sepia_model_list, z_all, x, y, yerr))\n",
    "    return sampler"
   ]
  },
  {
   "cell_type": "code",
   "execution_count": null,
   "metadata": {},
   "outputs": [],
   "source": [
    "#| export \n",
    "\n",
    "def do_mcmc(sampler, \n",
    "            pos, \n",
    "            nrun, \n",
    "            ndim,\n",
    "            if_burn=False\n",
    "            ):\n",
    "\n",
    "    time0 = time.time()\n",
    "    pos, prob, state = sampler.run_mcmc(pos, nrun)\n",
    "\n",
    "    time1 = time.time()\n",
    "    print('time (minutes):', (time1 - time0)/60. )\n",
    "\n",
    "    samples = sampler.chain[:, :, :].reshape((-1, ndim))\n",
    "\n",
    "    if if_burn: \n",
    "        print('Burn-in phase')\n",
    "        sampler.reset()\n",
    "\n",
    "    else:\n",
    "        print('Sampling phase')\n",
    "\n",
    "    return pos, prob, state, samples, sampler\n"
   ]
  },
  {
   "cell_type": "code",
   "execution_count": null,
   "metadata": {},
   "outputs": [],
   "source": [
    "# #| export\n",
    "\n",
    "# def mcmc_results(samples):\n",
    "#     p1_mcmc, p2_mcmc, p3_mcmc, p4_mcmc, p5_mcmc = map(lambda v: (v[1], v[2] - v[1], v[1] - v[0]), zip(*np.percentile(samples, [16, 50, 84], axis=0)))\n",
    "\n",
    "#     print('mcmc results:', p1_mcmc[0], p2_mcmc[0], p3_mcmc[0], p4_mcmc[0], p5_mcmc[0])\n",
    "\n",
    "#     return p1_mcmc[0], p2_mcmc[0], p3_mcmc[0], p4_mcmc[0], p5_mcmc[0]\n"
   ]
  },
  {
   "cell_type": "code",
   "execution_count": null,
   "metadata": {},
   "outputs": [],
   "source": [
    "#| export\n",
    "\n",
    "def mcmc_results(samples):\n",
    "    results = list(map(lambda v: (v[1], v[2] - v[1], v[1] - v[0]), zip(*np.percentile(samples, [16, 50, 84], axis=0))))\n",
    "    print('mcmc results:', ' '.join(str(result[0]) for result in results))\n",
    "    return tuple(result[0] for result in results)"
   ]
  },
  {
   "cell_type": "code",
   "execution_count": null,
   "metadata": {},
   "outputs": [],
   "source": [
    "#| hide\n",
    "import nbdev; nbdev.nbdev_export()"
   ]
  }
 ],
 "metadata": {
  "kernelspec": {
   "display_name": "python3",
   "language": "python",
   "name": "python3"
  }
 },
 "nbformat": 4,
 "nbformat_minor": 4
}
