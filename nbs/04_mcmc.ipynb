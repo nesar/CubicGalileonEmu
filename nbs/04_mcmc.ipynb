{
 "cells": [
  {
   "cell_type": "markdown",
   "metadata": {},
   "source": [
    "# mcmc\n",
    "\n",
    "> Fill in a module description here"
   ]
  },
  {
   "cell_type": "code",
   "execution_count": null,
   "metadata": {},
   "outputs": [],
   "source": [
    "#| default_exp mcmc"
   ]
  },
  {
   "cell_type": "code",
   "execution_count": null,
   "metadata": {},
   "outputs": [],
   "source": [
    "#| hide\n",
    "from nbdev.showdoc import *"
   ]
  },
  {
   "cell_type": "code",
   "execution_count": null,
   "metadata": {},
   "outputs": [],
   "source": [
    "#| export\n",
    "\n",
    "import numpy as np\n",
    "import emcee \n",
    "import time\n",
    "from CubicGalileonEmu.emu import emu_redshift"
   ]
  },
  {
   "cell_type": "code",
   "execution_count": null,
   "metadata": {},
   "outputs": [],
   "source": [
    "#| export\n",
    "\n",
    "def ln_prior(theta, params_list):\n",
    "    \n",
    "    p1, p2, p3, p4, p5, _ = theta\n",
    "    param1, param2, param3, param4, param5 = params_list\n",
    "    \n",
    "    if param1[2] < p1 < param1[3]  \\\n",
    "    and param2[2] < p2 < param2[3] \\\n",
    "    and param3[2] < p3 < param3[3] \\\n",
    "    and param4[2] < p4 < param4[3] \\\n",
    "    and param5[2] < p5 < param5[3]:\n",
    "    \n",
    "        ### gaussian prior on a\n",
    "        p1_mu = 0.5*(param1[3] - param1[2]) + param1[2]\n",
    "        p2_mu = 0.5*(param2[3] - param2[2]) + param2[2]\n",
    "        p3_mu = 0.5*(param3[3] - param3[2]) + param3[2]\n",
    "        p4_mu = 0.5*(param4[3] - param4[2]) + param4[2]\n",
    "        p5_mu = 0.5*(param5[3] - param5[2]) + param5[2]\n",
    "\n",
    "        p1_sigma = 1*(param1[3] - p1_mu)\n",
    "        p2_sigma = 1*(param2[3] - p2_mu)\n",
    "        p3_sigma = 1*(param3[3] - p3_mu)\n",
    "        p4_sigma = 1*(param4[3] - p4_mu)\n",
    "        p5_sigma = 1*(param5[3] - p5_mu)\n",
    "        \n",
    "\n",
    "        pdf1 = np.log(1.0/(np.sqrt(2*np.pi)*p1_sigma))-0.5*(p1-p1_mu)**2/p1_sigma**2\n",
    "        pdf2 = np.log(1.0/(np.sqrt(2*np.pi)*p2_sigma))-0.5*(p2-p2_mu)**2/p2_sigma**2\n",
    "        pdf3 = np.log(1.0/(np.sqrt(2*np.pi)*p3_sigma))-0.5*(p3-p3_mu)**2/p3_sigma**2\n",
    "        pdf4 = np.log(1.0/(np.sqrt(2*np.pi)*p4_sigma))-0.5*(p4-p4_mu)**2/p4_sigma**2\n",
    "        pdf5 = np.log(1.0/(np.sqrt(2*np.pi)*p5_sigma))-0.5*(p5-p5_mu)**2/p5_sigma**2\n",
    "    \n",
    "        return pdf1 + pdf2 + pdf3 + pdf4 + pdf5\n",
    "\n",
    "    return -np.inf"
   ]
  },
  {
   "cell_type": "code",
   "execution_count": null,
   "metadata": {},
   "outputs": [],
   "source": [
    "#| export\n",
    "\n",
    "def ln_like(theta, x_grid, sepia_model_list, z_all, x, y, yerr):\n",
    "      \n",
    "    p1, p2, p3, p4, p5, p6 = theta\n",
    "    \n",
    "    new_params = np.array([p1, p2, p3, p4, p5, p6])[np.newaxis, :]\n",
    "        \n",
    "    model_grid, model_var_grid = emu_redshift(new_params, sepia_model_list, z_all)\n",
    "        \n",
    "    model = np.interp(x, x_grid, model_grid[:, 0])\n",
    "    model_var = np.interp(x, x_grid, model_var_grid[:, 0, 0])\n",
    "  \n",
    "    sigma2 = yerr**2  + model_var\n",
    "    ll = -0.5 * np.sum((y - model)** 2 / sigma2 )\n",
    "    \n",
    "    return ll\n"
   ]
  },
  {
   "cell_type": "code",
   "execution_count": null,
   "metadata": {},
   "outputs": [],
   "source": [
    "#| export\n",
    "\n",
    "def ln_prob(theta, params_list, x_grid, sepia_model_list, z_all, x, y, yerr):\n",
    "    \n",
    "    lp = ln_prior(theta, params_list)\n",
    "    if not np.isfinite(lp):\n",
    "        return -np.inf\n",
    "    return lp + ln_like(theta, x_grid, sepia_model_list, z_all, x, y, yerr)"
   ]
  },
  {
   "cell_type": "code",
   "execution_count": null,
   "metadata": {},
   "outputs": [],
   "source": [
    "#| export\n",
    "\n",
    "def chain_init(params_list, ndim, nwalkers):\n",
    "\n",
    "    param1, param2, param3, param4, param5 = params_list\n",
    "\n",
    "    pos0 = [[param1[1]*1.0, \n",
    "               param2[1]*1.0, \n",
    "               param3[1]*1.0, \n",
    "               param4[1]*1.0,\n",
    "               param5[1]*1.0] \n",
    "            + 1e-3*np.random.randn(ndim + 1) for i in range(nwalkers)]\n",
    "    \n",
    "    return pos0\n"
   ]
  },
  {
   "cell_type": "code",
   "execution_count": null,
   "metadata": {},
   "outputs": [],
   "source": [
    "#| export\n",
    "\n",
    "def mcmc_run(): pass"
   ]
  },
  {
   "cell_type": "code",
   "execution_count": null,
   "metadata": {},
   "outputs": [],
   "source": [
    "#| hide\n",
    "import nbdev; nbdev.nbdev_export()"
   ]
  }
 ],
 "metadata": {
  "kernelspec": {
   "display_name": "python3",
   "language": "python",
   "name": "python3"
  }
 },
 "nbformat": 4,
 "nbformat_minor": 4
}
