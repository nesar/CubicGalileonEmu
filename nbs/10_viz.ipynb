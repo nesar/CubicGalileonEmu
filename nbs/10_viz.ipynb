{
 "cells": [
  {
   "cell_type": "markdown",
   "metadata": {},
   "source": [
    "# viz\n",
    "\n",
    "> Visulaization modules"
   ]
  },
  {
   "cell_type": "code",
   "execution_count": null,
   "metadata": {},
   "outputs": [],
   "source": [
    "#| default_exp viz"
   ]
  },
  {
   "cell_type": "code",
   "execution_count": null,
   "metadata": {},
   "outputs": [],
   "source": [
    "#| hide\n",
    "from nbdev.showdoc import *"
   ]
  },
  {
   "cell_type": "code",
   "execution_count": null,
   "metadata": {},
   "outputs": [],
   "source": [
    "#| export\n",
    "\n",
    "import numpy as np\n",
    "import os\n",
    "import matplotlib as mpl\n",
    "import matplotlib.pylab as plt\n",
    "import pandas as pd"
   ]
  },
  {
   "cell_type": "code",
   "execution_count": null,
   "metadata": {},
   "outputs": [],
   "source": [
    "#| export\n",
    "\n",
    "def plot_lines_with_param_color(param_array:np.array=None, # parameter array\n",
    "                                x_array:np.array=None, # x-axis array\n",
    "                                y_array_all:np.array=None, # y-axis array\n",
    "                                title_str:str=None, # Title string\n",
    "                                xlabel_str:str=None, # x-label string\n",
    "                                ylabel_str:str=None, # y-label string\n",
    "                                param_name_str:str=None, # Parameter string\n",
    "                               ):\n",
    "    \n",
    "    \n",
    "    f = plt.figure(32, figsize=(10, 5))    \n",
    "\n",
    "    norm = mpl.colors.Normalize(vmin=param_array.min(), vmax=param_array.max())\n",
    "    cmap = mpl.cm.ScalarMappable(norm=norm, cmap=mpl.cm.plasma)\n",
    "    cmap.set_array([])\n",
    "\n",
    "    for sim_index in range(50):\n",
    "        plt.plot(x_array, y_array_all[sim_index], \n",
    "                 '-', alpha= 0.5, c=cmap.to_rgba(param_array[sim_index]), \n",
    "                 label='Sim: '+str(sim_index) )\n",
    "\n",
    "    # plt.plot(stellar_mass_test, gsmf_um_test, 'k.', label='UM z=0.00')\n",
    "    plt.xscale('log')\n",
    "    # plt.axhline(y=0, linestyle='dashed', color='black')\n",
    "    # plt.yscale('log')\n",
    "    # plt.xlim(4e9, )\n",
    "    # plt.ylim(-0.02, 0.02)\n",
    "\n",
    "    clb = plt.colorbar(cmap)\n",
    "\n",
    "    clb.ax.tick_params(labelsize=15) \n",
    "    clb.ax.set_title(param_name_str, fontsize=15)\n",
    "\n",
    "    plt.title(title_str, fontsize=15)\n",
    "    plt.xlabel(xlabel_str, fontsize=15)\n",
    "    plt.ylabel(ylabel_str, fontsize=15)\n",
    "    \n",
    "    return f"
   ]
  },
  {
   "cell_type": "code",
   "execution_count": null,
   "metadata": {},
   "outputs": [],
   "source": [
    "#| export\n",
    "\n",
    "def plot_scatter_matrix(df, \n",
    "                        colors\n",
    "                       ): \n",
    "    \n",
    "    f, a = plt.subplots(1,1, figsize = (10, 10))\n",
    "    scatter_matrix = pd.plotting.scatter_matrix(df, \n",
    "                                                color=colors,  \n",
    "                                                figsize=(10,10), \n",
    "                                                alpha=1.0, \n",
    "                                                ax=a, \n",
    "                                                grid=False, \n",
    "                                                diagonal='hist',\n",
    "                                                range_padding=0.1,\n",
    "                                                s=80);\n",
    "\n",
    "    for ax in scatter_matrix.ravel():\n",
    "        ax.set_xlabel(ax.get_xlabel(), fontsize = 14, rotation = 0)\n",
    "        ax.set_ylabel(ax.get_ylabel(), fontsize = 14, rotation = 90)\n",
    "        \n",
    "    return f"
   ]
  },
  {
   "cell_type": "code",
   "execution_count": null,
   "metadata": {},
   "outputs": [
    {
     "name": "stderr",
     "output_type": "stream",
     "text": [
      "/home/nramachandra/anaconda3/envs/qom_torch_tf/lib/python3.9/site-packages/nbdev/export.py:54: UserWarning: Notebook '/home/nramachandra/Projects/MG_emu/Codes/CubicGalileonEmu/nbs/index.ipynb' uses `#|export` without `#|default_exp` cell.\n",
      "Note nbdev2 no longer supports nbdev1 syntax. Run `nbdev_migrate` to upgrade.\n",
      "See https://nbdev.fast.ai/getting_started.html for more information.\n",
      "  warn(f\"Notebook '{nbname}' uses `#|export` without `#|default_exp` cell.\\n\"\n"
     ]
    }
   ],
   "source": [
    "#| hide\n",
    "import nbdev; nbdev.nbdev_export()"
   ]
  }
 ],
 "metadata": {
  "kernelspec": {
   "display_name": "python3",
   "language": "python",
   "name": "python3"
  }
 },
 "nbformat": 4,
 "nbformat_minor": 4
}
